{
 "cells": [
  {
   "cell_type": "code",
   "execution_count": 1,
   "id": "cabd6534",
   "metadata": {
    "_cell_guid": "b1076dfc-b9ad-4769-8c92-a6c4dae69d19",
    "_uuid": "8f2839f25d086af736a60e9eeb907d3b93b6e0e5",
    "execution": {
     "iopub.execute_input": "2022-01-08T15:31:48.536641Z",
     "iopub.status.busy": "2022-01-08T15:31:48.535547Z",
     "iopub.status.idle": "2022-01-08T15:31:49.584223Z",
     "shell.execute_reply": "2022-01-08T15:31:49.584724Z",
     "shell.execute_reply.started": "2022-01-08T15:29:21.014890Z"
    },
    "papermill": {
     "duration": 1.069994,
     "end_time": "2022-01-08T15:31:49.585047",
     "exception": false,
     "start_time": "2022-01-08T15:31:48.515053",
     "status": "completed"
    },
    "tags": []
   },
   "outputs": [],
   "source": [
    "import pandas as pd\n",
    "import numpy as np\n",
    "import matplotlib.pyplot as plt\n",
    "import seaborn as sns"
   ]
  },
  {
   "cell_type": "code",
   "execution_count": 2,
   "id": "87dce041",
   "metadata": {
    "execution": {
     "iopub.execute_input": "2022-01-08T15:31:49.620044Z",
     "iopub.status.busy": "2022-01-08T15:31:49.619176Z",
     "iopub.status.idle": "2022-01-08T15:31:49.760021Z",
     "shell.execute_reply": "2022-01-08T15:31:49.760572Z",
     "shell.execute_reply.started": "2022-01-08T15:29:21.022273Z"
    },
    "papermill": {
     "duration": 0.159959,
     "end_time": "2022-01-08T15:31:49.760741",
     "exception": false,
     "start_time": "2022-01-08T15:31:49.600782",
     "status": "completed"
    },
    "tags": []
   },
   "outputs": [
    {
     "data": {
      "text/html": [
       "<div>\n",
       "<style scoped>\n",
       "    .dataframe tbody tr th:only-of-type {\n",
       "        vertical-align: middle;\n",
       "    }\n",
       "\n",
       "    .dataframe tbody tr th {\n",
       "        vertical-align: top;\n",
       "    }\n",
       "\n",
       "    .dataframe thead th {\n",
       "        text-align: right;\n",
       "    }\n",
       "</style>\n",
       "<table border=\"1\" class=\"dataframe\">\n",
       "  <thead>\n",
       "    <tr style=\"text-align: right;\">\n",
       "      <th></th>\n",
       "      <th>age</th>\n",
       "      <th>workclass</th>\n",
       "      <th>fnlwgt</th>\n",
       "      <th>education</th>\n",
       "      <th>education-num</th>\n",
       "      <th>marital-status</th>\n",
       "      <th>occupation</th>\n",
       "      <th>relationship</th>\n",
       "      <th>race</th>\n",
       "      <th>sex</th>\n",
       "      <th>capital-gain</th>\n",
       "      <th>capital-loss</th>\n",
       "      <th>hours-per-week</th>\n",
       "      <th>native-country</th>\n",
       "      <th>salary</th>\n",
       "    </tr>\n",
       "  </thead>\n",
       "  <tbody>\n",
       "    <tr>\n",
       "      <th>0</th>\n",
       "      <td>39</td>\n",
       "      <td>State-gov</td>\n",
       "      <td>77516</td>\n",
       "      <td>Bachelors</td>\n",
       "      <td>13</td>\n",
       "      <td>Never-married</td>\n",
       "      <td>Adm-clerical</td>\n",
       "      <td>Not-in-family</td>\n",
       "      <td>White</td>\n",
       "      <td>Male</td>\n",
       "      <td>2174</td>\n",
       "      <td>0</td>\n",
       "      <td>40</td>\n",
       "      <td>United-States</td>\n",
       "      <td>&lt;=50K</td>\n",
       "    </tr>\n",
       "    <tr>\n",
       "      <th>1</th>\n",
       "      <td>50</td>\n",
       "      <td>Self-emp-not-inc</td>\n",
       "      <td>83311</td>\n",
       "      <td>Bachelors</td>\n",
       "      <td>13</td>\n",
       "      <td>Married-civ-spouse</td>\n",
       "      <td>Exec-managerial</td>\n",
       "      <td>Husband</td>\n",
       "      <td>White</td>\n",
       "      <td>Male</td>\n",
       "      <td>0</td>\n",
       "      <td>0</td>\n",
       "      <td>13</td>\n",
       "      <td>United-States</td>\n",
       "      <td>&lt;=50K</td>\n",
       "    </tr>\n",
       "    <tr>\n",
       "      <th>2</th>\n",
       "      <td>38</td>\n",
       "      <td>Private</td>\n",
       "      <td>215646</td>\n",
       "      <td>HS-grad</td>\n",
       "      <td>9</td>\n",
       "      <td>Divorced</td>\n",
       "      <td>Handlers-cleaners</td>\n",
       "      <td>Not-in-family</td>\n",
       "      <td>White</td>\n",
       "      <td>Male</td>\n",
       "      <td>0</td>\n",
       "      <td>0</td>\n",
       "      <td>40</td>\n",
       "      <td>United-States</td>\n",
       "      <td>&lt;=50K</td>\n",
       "    </tr>\n",
       "    <tr>\n",
       "      <th>3</th>\n",
       "      <td>53</td>\n",
       "      <td>Private</td>\n",
       "      <td>234721</td>\n",
       "      <td>11th</td>\n",
       "      <td>7</td>\n",
       "      <td>Married-civ-spouse</td>\n",
       "      <td>Handlers-cleaners</td>\n",
       "      <td>Husband</td>\n",
       "      <td>Black</td>\n",
       "      <td>Male</td>\n",
       "      <td>0</td>\n",
       "      <td>0</td>\n",
       "      <td>40</td>\n",
       "      <td>United-States</td>\n",
       "      <td>&lt;=50K</td>\n",
       "    </tr>\n",
       "    <tr>\n",
       "      <th>4</th>\n",
       "      <td>28</td>\n",
       "      <td>Private</td>\n",
       "      <td>338409</td>\n",
       "      <td>Bachelors</td>\n",
       "      <td>13</td>\n",
       "      <td>Married-civ-spouse</td>\n",
       "      <td>Prof-specialty</td>\n",
       "      <td>Wife</td>\n",
       "      <td>Black</td>\n",
       "      <td>Female</td>\n",
       "      <td>0</td>\n",
       "      <td>0</td>\n",
       "      <td>40</td>\n",
       "      <td>Cuba</td>\n",
       "      <td>&lt;=50K</td>\n",
       "    </tr>\n",
       "    <tr>\n",
       "      <th>...</th>\n",
       "      <td>...</td>\n",
       "      <td>...</td>\n",
       "      <td>...</td>\n",
       "      <td>...</td>\n",
       "      <td>...</td>\n",
       "      <td>...</td>\n",
       "      <td>...</td>\n",
       "      <td>...</td>\n",
       "      <td>...</td>\n",
       "      <td>...</td>\n",
       "      <td>...</td>\n",
       "      <td>...</td>\n",
       "      <td>...</td>\n",
       "      <td>...</td>\n",
       "      <td>...</td>\n",
       "    </tr>\n",
       "    <tr>\n",
       "      <th>32556</th>\n",
       "      <td>27</td>\n",
       "      <td>Private</td>\n",
       "      <td>257302</td>\n",
       "      <td>Assoc-acdm</td>\n",
       "      <td>12</td>\n",
       "      <td>Married-civ-spouse</td>\n",
       "      <td>Tech-support</td>\n",
       "      <td>Wife</td>\n",
       "      <td>White</td>\n",
       "      <td>Female</td>\n",
       "      <td>0</td>\n",
       "      <td>0</td>\n",
       "      <td>38</td>\n",
       "      <td>United-States</td>\n",
       "      <td>&lt;=50K</td>\n",
       "    </tr>\n",
       "    <tr>\n",
       "      <th>32557</th>\n",
       "      <td>40</td>\n",
       "      <td>Private</td>\n",
       "      <td>154374</td>\n",
       "      <td>HS-grad</td>\n",
       "      <td>9</td>\n",
       "      <td>Married-civ-spouse</td>\n",
       "      <td>Machine-op-inspct</td>\n",
       "      <td>Husband</td>\n",
       "      <td>White</td>\n",
       "      <td>Male</td>\n",
       "      <td>0</td>\n",
       "      <td>0</td>\n",
       "      <td>40</td>\n",
       "      <td>United-States</td>\n",
       "      <td>&gt;50K</td>\n",
       "    </tr>\n",
       "    <tr>\n",
       "      <th>32558</th>\n",
       "      <td>58</td>\n",
       "      <td>Private</td>\n",
       "      <td>151910</td>\n",
       "      <td>HS-grad</td>\n",
       "      <td>9</td>\n",
       "      <td>Widowed</td>\n",
       "      <td>Adm-clerical</td>\n",
       "      <td>Unmarried</td>\n",
       "      <td>White</td>\n",
       "      <td>Female</td>\n",
       "      <td>0</td>\n",
       "      <td>0</td>\n",
       "      <td>40</td>\n",
       "      <td>United-States</td>\n",
       "      <td>&lt;=50K</td>\n",
       "    </tr>\n",
       "    <tr>\n",
       "      <th>32559</th>\n",
       "      <td>22</td>\n",
       "      <td>Private</td>\n",
       "      <td>201490</td>\n",
       "      <td>HS-grad</td>\n",
       "      <td>9</td>\n",
       "      <td>Never-married</td>\n",
       "      <td>Adm-clerical</td>\n",
       "      <td>Own-child</td>\n",
       "      <td>White</td>\n",
       "      <td>Male</td>\n",
       "      <td>0</td>\n",
       "      <td>0</td>\n",
       "      <td>20</td>\n",
       "      <td>United-States</td>\n",
       "      <td>&lt;=50K</td>\n",
       "    </tr>\n",
       "    <tr>\n",
       "      <th>32560</th>\n",
       "      <td>52</td>\n",
       "      <td>Self-emp-inc</td>\n",
       "      <td>287927</td>\n",
       "      <td>HS-grad</td>\n",
       "      <td>9</td>\n",
       "      <td>Married-civ-spouse</td>\n",
       "      <td>Exec-managerial</td>\n",
       "      <td>Wife</td>\n",
       "      <td>White</td>\n",
       "      <td>Female</td>\n",
       "      <td>15024</td>\n",
       "      <td>0</td>\n",
       "      <td>40</td>\n",
       "      <td>United-States</td>\n",
       "      <td>&gt;50K</td>\n",
       "    </tr>\n",
       "  </tbody>\n",
       "</table>\n",
       "<p>32561 rows × 15 columns</p>\n",
       "</div>"
      ],
      "text/plain": [
       "       age         workclass  fnlwgt   education  education-num  \\\n",
       "0       39         State-gov   77516   Bachelors             13   \n",
       "1       50  Self-emp-not-inc   83311   Bachelors             13   \n",
       "2       38           Private  215646     HS-grad              9   \n",
       "3       53           Private  234721        11th              7   \n",
       "4       28           Private  338409   Bachelors             13   \n",
       "...    ...               ...     ...         ...            ...   \n",
       "32556   27           Private  257302  Assoc-acdm             12   \n",
       "32557   40           Private  154374     HS-grad              9   \n",
       "32558   58           Private  151910     HS-grad              9   \n",
       "32559   22           Private  201490     HS-grad              9   \n",
       "32560   52      Self-emp-inc  287927     HS-grad              9   \n",
       "\n",
       "           marital-status         occupation   relationship   race     sex  \\\n",
       "0           Never-married       Adm-clerical  Not-in-family  White    Male   \n",
       "1      Married-civ-spouse    Exec-managerial        Husband  White    Male   \n",
       "2                Divorced  Handlers-cleaners  Not-in-family  White    Male   \n",
       "3      Married-civ-spouse  Handlers-cleaners        Husband  Black    Male   \n",
       "4      Married-civ-spouse     Prof-specialty           Wife  Black  Female   \n",
       "...                   ...                ...            ...    ...     ...   \n",
       "32556  Married-civ-spouse       Tech-support           Wife  White  Female   \n",
       "32557  Married-civ-spouse  Machine-op-inspct        Husband  White    Male   \n",
       "32558             Widowed       Adm-clerical      Unmarried  White  Female   \n",
       "32559       Never-married       Adm-clerical      Own-child  White    Male   \n",
       "32560  Married-civ-spouse    Exec-managerial           Wife  White  Female   \n",
       "\n",
       "       capital-gain  capital-loss  hours-per-week native-country salary  \n",
       "0              2174             0              40  United-States  <=50K  \n",
       "1                 0             0              13  United-States  <=50K  \n",
       "2                 0             0              40  United-States  <=50K  \n",
       "3                 0             0              40  United-States  <=50K  \n",
       "4                 0             0              40           Cuba  <=50K  \n",
       "...             ...           ...             ...            ...    ...  \n",
       "32556             0             0              38  United-States  <=50K  \n",
       "32557             0             0              40  United-States   >50K  \n",
       "32558             0             0              40  United-States  <=50K  \n",
       "32559             0             0              20  United-States  <=50K  \n",
       "32560         15024             0              40  United-States   >50K  \n",
       "\n",
       "[32561 rows x 15 columns]"
      ]
     },
     "execution_count": 2,
     "metadata": {},
     "output_type": "execute_result"
    }
   ],
   "source": [
    "#Reading the dataset\n",
    "df = pd.read_csv('../input/uci-adult/adult.data.csv')\n",
    "df"
   ]
  },
  {
   "cell_type": "markdown",
   "id": "5443ef71",
   "metadata": {
    "papermill": {
     "duration": 0.015787,
     "end_time": "2022-01-08T15:31:49.793428",
     "exception": false,
     "start_time": "2022-01-08T15:31:49.777641",
     "status": "completed"
    },
    "tags": []
   },
   "source": [
    "<h1> How many people of each race are represented in this dataset? </h1>"
   ]
  },
  {
   "cell_type": "code",
   "execution_count": 3,
   "id": "189ab874",
   "metadata": {
    "execution": {
     "iopub.execute_input": "2022-01-08T15:31:49.834757Z",
     "iopub.status.busy": "2022-01-08T15:31:49.833881Z",
     "iopub.status.idle": "2022-01-08T15:31:49.844827Z",
     "shell.execute_reply": "2022-01-08T15:31:49.845359Z",
     "shell.execute_reply.started": "2022-01-08T15:29:21.132867Z"
    },
    "papermill": {
     "duration": 0.03586,
     "end_time": "2022-01-08T15:31:49.845521",
     "exception": false,
     "start_time": "2022-01-08T15:31:49.809661",
     "status": "completed"
    },
    "tags": []
   },
   "outputs": [
    {
     "data": {
      "text/plain": [
       "{'Amer-Indian-Eskimo', 'Asian-Pac-Islander', 'Black', 'Other', 'White'}"
      ]
     },
     "execution_count": 3,
     "metadata": {},
     "output_type": "execute_result"
    }
   ],
   "source": [
    "#Finding out what are the types of race in the race column of the dataset\n",
    "set_race = {}\n",
    "list_race  = []\n",
    "for i in df['race']:\n",
    "    list_race.append(i)\n",
    "set_race = set(list_race)\n",
    "set_race"
   ]
  },
  {
   "cell_type": "code",
   "execution_count": 4,
   "id": "41764736",
   "metadata": {
    "execution": {
     "iopub.execute_input": "2022-01-08T15:31:49.881521Z",
     "iopub.status.busy": "2022-01-08T15:31:49.880596Z",
     "iopub.status.idle": "2022-01-08T15:31:49.903656Z",
     "shell.execute_reply": "2022-01-08T15:31:49.903130Z",
     "shell.execute_reply.started": "2022-01-08T15:29:21.149214Z"
    },
    "papermill": {
     "duration": 0.042091,
     "end_time": "2022-01-08T15:31:49.903795",
     "exception": false,
     "start_time": "2022-01-08T15:31:49.861704",
     "status": "completed"
    },
    "tags": []
   },
   "outputs": [],
   "source": [
    "# How many of each race are represented in this dataset? \n",
    "#This should be a Pandas series with race names as the index labels.\n",
    "White = df[df['race'] == 'White']\n",
    "Black = df[df['race'] == 'Black']\n",
    "Amer_Indian_Eskimo = df[df['race'] == 'Amer-Indian-Eskimo']\n",
    "Asian_Pac_Islander = df[df['race'] == 'Asian-Pac-Islander']\n",
    "Other = df[df['race'] == 'Other']"
   ]
  },
  {
   "cell_type": "code",
   "execution_count": 5,
   "id": "060363b7",
   "metadata": {
    "execution": {
     "iopub.execute_input": "2022-01-08T15:31:49.944163Z",
     "iopub.status.busy": "2022-01-08T15:31:49.942519Z",
     "iopub.status.idle": "2022-01-08T15:31:49.946435Z",
     "shell.execute_reply": "2022-01-08T15:31:49.945939Z",
     "shell.execute_reply.started": "2022-01-08T15:29:21.197557Z"
    },
    "papermill": {
     "duration": 0.026211,
     "end_time": "2022-01-08T15:31:49.946565",
     "exception": false,
     "start_time": "2022-01-08T15:31:49.920354",
     "status": "completed"
    },
    "tags": []
   },
   "outputs": [
    {
     "data": {
      "text/plain": [
       "[27816, 3124, 311, 1039, 271]"
      ]
     },
     "execution_count": 5,
     "metadata": {},
     "output_type": "execute_result"
    }
   ],
   "source": [
    "list_race_population = [len(White), len(Black), len(Amer_Indian_Eskimo), len(Asian_Pac_Islander), len(Other)]\n",
    "list_race_population"
   ]
  },
  {
   "cell_type": "code",
   "execution_count": 6,
   "id": "19061176",
   "metadata": {
    "execution": {
     "iopub.execute_input": "2022-01-08T15:31:49.983773Z",
     "iopub.status.busy": "2022-01-08T15:31:49.982878Z",
     "iopub.status.idle": "2022-01-08T15:31:49.989494Z",
     "shell.execute_reply": "2022-01-08T15:31:49.989968Z",
     "shell.execute_reply.started": "2022-01-08T15:29:21.205363Z"
    },
    "papermill": {
     "duration": 0.027198,
     "end_time": "2022-01-08T15:31:49.990122",
     "exception": false,
     "start_time": "2022-01-08T15:31:49.962924",
     "status": "completed"
    },
    "tags": []
   },
   "outputs": [
    {
     "data": {
      "text/plain": [
       "Amer-Indian-Eskimo    27816\n",
       "White                  3124\n",
       "Black                   311\n",
       "Other                  1039\n",
       "Asian-Pac-Islander      271\n",
       "dtype: int64"
      ]
     },
     "execution_count": 6,
     "metadata": {},
     "output_type": "execute_result"
    }
   ],
   "source": [
    "race_series = pd.Series(data = list_race_population, index = set_race)\n",
    "race_series"
   ]
  },
  {
   "cell_type": "markdown",
   "id": "c98bd24e",
   "metadata": {
    "papermill": {
     "duration": 0.01637,
     "end_time": "2022-01-08T15:31:50.023060",
     "exception": false,
     "start_time": "2022-01-08T15:31:50.006690",
     "status": "completed"
    },
    "tags": []
   },
   "source": [
    "<h1> What is the average age of men? </h1>"
   ]
  },
  {
   "cell_type": "code",
   "execution_count": 7,
   "id": "9d8da15e",
   "metadata": {
    "execution": {
     "iopub.execute_input": "2022-01-08T15:31:50.060790Z",
     "iopub.status.busy": "2022-01-08T15:31:50.059853Z",
     "iopub.status.idle": "2022-01-08T15:31:50.073866Z",
     "shell.execute_reply": "2022-01-08T15:31:50.074689Z",
     "shell.execute_reply.started": "2022-01-08T15:29:21.221517Z"
    },
    "papermill": {
     "duration": 0.035164,
     "end_time": "2022-01-08T15:31:50.074951",
     "exception": false,
     "start_time": "2022-01-08T15:31:50.039787",
     "status": "completed"
    },
    "tags": []
   },
   "outputs": [
    {
     "data": {
      "text/plain": [
       "39.4"
      ]
     },
     "execution_count": 7,
     "metadata": {},
     "output_type": "execute_result"
    }
   ],
   "source": [
    "# What is the average age of men?\n",
    "men = df[df['sex'] == 'Male']\n",
    "round(men['age'].mean(),1)"
   ]
  },
  {
   "cell_type": "markdown",
   "id": "7a9155d6",
   "metadata": {
    "papermill": {
     "duration": 0.018845,
     "end_time": "2022-01-08T15:31:50.117620",
     "exception": false,
     "start_time": "2022-01-08T15:31:50.098775",
     "status": "completed"
    },
    "tags": []
   },
   "source": [
    "<h1> What is the average age of women? </h1>"
   ]
  },
  {
   "cell_type": "code",
   "execution_count": 8,
   "id": "5dec6b4d",
   "metadata": {
    "execution": {
     "iopub.execute_input": "2022-01-08T15:31:50.169402Z",
     "iopub.status.busy": "2022-01-08T15:31:50.168453Z",
     "iopub.status.idle": "2022-01-08T15:31:50.180558Z",
     "shell.execute_reply": "2022-01-08T15:31:50.181200Z",
     "shell.execute_reply.started": "2022-01-08T15:29:21.245553Z"
    },
    "papermill": {
     "duration": 0.038667,
     "end_time": "2022-01-08T15:31:50.181478",
     "exception": false,
     "start_time": "2022-01-08T15:31:50.142811",
     "status": "completed"
    },
    "tags": []
   },
   "outputs": [
    {
     "data": {
      "text/plain": [
       "36.9"
      ]
     },
     "execution_count": 8,
     "metadata": {},
     "output_type": "execute_result"
    }
   ],
   "source": [
    "# What is the average age of women?\n",
    "women = df[df['sex'] == 'Female']\n",
    "round(women['age'].mean(),1)"
   ]
  },
  {
   "cell_type": "markdown",
   "id": "4cbb617c",
   "metadata": {
    "papermill": {
     "duration": 0.01855,
     "end_time": "2022-01-08T15:31:50.219679",
     "exception": false,
     "start_time": "2022-01-08T15:31:50.201129",
     "status": "completed"
    },
    "tags": []
   },
   "source": [
    "<h1> What is the percentage of people who have a Bachelor's degree? </h1>"
   ]
  },
  {
   "cell_type": "code",
   "execution_count": 9,
   "id": "5b6def53",
   "metadata": {
    "execution": {
     "iopub.execute_input": "2022-01-08T15:31:50.258791Z",
     "iopub.status.busy": "2022-01-08T15:31:50.258156Z",
     "iopub.status.idle": "2022-01-08T15:31:50.270083Z",
     "shell.execute_reply": "2022-01-08T15:31:50.270623Z",
     "shell.execute_reply.started": "2022-01-08T15:29:21.265779Z"
    },
    "papermill": {
     "duration": 0.033317,
     "end_time": "2022-01-08T15:31:50.270805",
     "exception": false,
     "start_time": "2022-01-08T15:31:50.237488",
     "status": "completed"
    },
    "tags": []
   },
   "outputs": [
    {
     "data": {
      "text/plain": [
       "0        Bachelors\n",
       "1        Bachelors\n",
       "4        Bachelors\n",
       "9        Bachelors\n",
       "11       Bachelors\n",
       "           ...    \n",
       "32530    Bachelors\n",
       "32531    Bachelors\n",
       "32533    Bachelors\n",
       "32536    Bachelors\n",
       "32538    Bachelors\n",
       "Name: education, Length: 5355, dtype: object"
      ]
     },
     "execution_count": 9,
     "metadata": {},
     "output_type": "execute_result"
    }
   ],
   "source": [
    "# What is the percentage of people who have a Bachelor's degree?\n",
    "bachelors_degree = df[df['education'] == 'Bachelors']\n",
    "bachelors_degree['education']"
   ]
  },
  {
   "cell_type": "code",
   "execution_count": 10,
   "id": "f05b5ac5",
   "metadata": {
    "execution": {
     "iopub.execute_input": "2022-01-08T15:31:50.309676Z",
     "iopub.status.busy": "2022-01-08T15:31:50.309082Z",
     "iopub.status.idle": "2022-01-08T15:31:50.321864Z",
     "shell.execute_reply": "2022-01-08T15:31:50.322374Z",
     "shell.execute_reply.started": "2022-01-08T15:29:21.283691Z"
    },
    "papermill": {
     "duration": 0.033696,
     "end_time": "2022-01-08T15:31:50.322546",
     "exception": false,
     "start_time": "2022-01-08T15:31:50.288850",
     "status": "completed"
    },
    "tags": []
   },
   "outputs": [
    {
     "data": {
      "text/plain": [
       "2           HS-grad\n",
       "3              11th\n",
       "5           Masters\n",
       "6               9th\n",
       "7           HS-grad\n",
       "            ...    \n",
       "32556    Assoc-acdm\n",
       "32557       HS-grad\n",
       "32558       HS-grad\n",
       "32559       HS-grad\n",
       "32560       HS-grad\n",
       "Name: education, Length: 27206, dtype: object"
      ]
     },
     "execution_count": 10,
     "metadata": {},
     "output_type": "execute_result"
    }
   ],
   "source": [
    "# What is the percentage of people who don't have a Bachelor's degree?\n",
    "not_bachelors_degree = df[df['education'] != 'Bachelors']\n",
    "not_bachelors_degree['education']"
   ]
  },
  {
   "cell_type": "code",
   "execution_count": 11,
   "id": "cca08047",
   "metadata": {
    "execution": {
     "iopub.execute_input": "2022-01-08T15:31:50.362592Z",
     "iopub.status.busy": "2022-01-08T15:31:50.361982Z",
     "iopub.status.idle": "2022-01-08T15:31:50.366708Z",
     "shell.execute_reply": "2022-01-08T15:31:50.367167Z",
     "shell.execute_reply.started": "2022-01-08T15:29:21.306001Z"
    },
    "papermill": {
     "duration": 0.025661,
     "end_time": "2022-01-08T15:31:50.367349",
     "exception": false,
     "start_time": "2022-01-08T15:31:50.341688",
     "status": "completed"
    },
    "tags": []
   },
   "outputs": [
    {
     "data": {
      "text/plain": [
       "16.4"
      ]
     },
     "execution_count": 11,
     "metadata": {},
     "output_type": "execute_result"
    }
   ],
   "source": [
    "percantage_bachelor = round((len(bachelors_degree['education'])/len(df))*100,1)\n",
    "percantage_bachelor                   "
   ]
  },
  {
   "cell_type": "markdown",
   "id": "60805d3f",
   "metadata": {
    "papermill": {
     "duration": 0.017612,
     "end_time": "2022-01-08T15:31:50.403030",
     "exception": false,
     "start_time": "2022-01-08T15:31:50.385418",
     "status": "completed"
    },
    "tags": []
   },
   "source": [
    "<h2> What percentage of people with advanced education (Bachelors, Masters, or Doctorate) make more than 50K?\n",
    "What percentage of people without advanced education make more than 50K? </h2>"
   ]
  },
  {
   "cell_type": "code",
   "execution_count": 12,
   "id": "70eaa78d",
   "metadata": {
    "execution": {
     "iopub.execute_input": "2022-01-08T15:31:50.441936Z",
     "iopub.status.busy": "2022-01-08T15:31:50.441231Z",
     "iopub.status.idle": "2022-01-08T15:31:50.502877Z",
     "shell.execute_reply": "2022-01-08T15:31:50.501847Z",
     "shell.execute_reply.started": "2022-01-08T15:29:21.314931Z"
    },
    "papermill": {
     "duration": 0.082094,
     "end_time": "2022-01-08T15:31:50.503061",
     "exception": false,
     "start_time": "2022-01-08T15:31:50.420967",
     "status": "completed"
    },
    "tags": []
   },
   "outputs": [
    {
     "name": "stdout",
     "output_type": "stream",
     "text": [
      "People with high education and high income: 46.5\n",
      "Percentage of people with low education and high income: 17.4\n"
     ]
    }
   ],
   "source": [
    "total_people = df.education.count()\n",
    "number_of_people = total_people\n",
    "\n",
    "number_of_people_with_adv_edu = len(df[((df.education == 'Bachelors') | (df.education == 'Masters') | (df.education == 'Doctorate'))])\n",
    "number_of_people_with_low_edu = len(df[((df.education != 'Bachelors') & (df.education != 'Masters') & (df.education != 'Doctorate'))])\n",
    "\n",
    "# with and without `Bachelors`, `Masters`, or `Doctorate`\n",
    "higher_education = number_of_people_with_adv_edu\n",
    "lower_education = number_of_people_with_low_edu\n",
    "\n",
    "# percentage with salary >50K\n",
    "people_with_adv_edu_high_income = (df[((df.education == 'Bachelors') | (df.education == 'Masters') | (df.education == 'Doctorate')) & (df.salary == '>50K')].count())['age']\n",
    "higher_education_rich = round(((people_with_adv_edu_high_income / number_of_people_with_adv_edu) * 100), 1)\n",
    "\n",
    "people_with_low_edu_high_income = (df[((df.education != 'Bachelors') & (df.education != 'Masters') & (df.education != 'Doctorate')) & (df.salary == '>50K')].count())['age']\n",
    "lower_education_rich = round((people_with_low_edu_high_income / lower_education) * 100, 1)\n",
    "print(\"People with high education and high income:\", higher_education_rich)\n",
    "print(\"Percentage of people with low education and high income:\", lower_education_rich)"
   ]
  },
  {
   "cell_type": "markdown",
   "id": "44427e4f",
   "metadata": {
    "papermill": {
     "duration": 0.018878,
     "end_time": "2022-01-08T15:31:50.541644",
     "exception": false,
     "start_time": "2022-01-08T15:31:50.522766",
     "status": "completed"
    },
    "tags": []
   },
   "source": [
    "<h2> What country has the highest percentage of people that earn >50K and what is that percentage </h2>"
   ]
  },
  {
   "cell_type": "code",
   "execution_count": 13,
   "id": "cd8974eb",
   "metadata": {
    "execution": {
     "iopub.execute_input": "2022-01-08T15:31:50.587196Z",
     "iopub.status.busy": "2022-01-08T15:31:50.580792Z",
     "iopub.status.idle": "2022-01-08T15:31:50.617089Z",
     "shell.execute_reply": "2022-01-08T15:31:50.617803Z",
     "shell.execute_reply.started": "2022-01-08T15:29:21.428850Z"
    },
    "papermill": {
     "duration": 0.057974,
     "end_time": "2022-01-08T15:31:50.618026",
     "exception": false,
     "start_time": "2022-01-08T15:31:50.560052",
     "status": "completed"
    },
    "tags": []
   },
   "outputs": [
    {
     "name": "stdout",
     "output_type": "stream",
     "text": [
      "Highest earning country: Iran\n",
      "Highest earning country's percentage: 41.9\n"
     ]
    }
   ],
   "source": [
    "#groups by native country and salary >50K, converts the series to dataframe and renames the columns\n",
    "country = df.groupby(['native-country', df.salary[df.salary == '>50K']])['age'].size()\n",
    "country = country.to_frame()\n",
    "country.rename(columns={'age': 'filtered'}, inplace=True)\n",
    "\n",
    "#groups by native country, coverts the series to dataframe and renames the columns\n",
    "num_people_per_country = df.groupby(['native-country'])['age'].size()\n",
    "num_people_per_country = num_people_per_country.to_frame()\n",
    "num_people_per_country.rename(columns={'age': 'Total'}, inplace=True)\n",
    "\n",
    "#merging the two dataframes\n",
    "merged = country.merge(num_people_per_country, left_index=True, right_index=True)\n",
    "merged['percentage'] = (merged.filtered / merged.Total) * 100\n",
    "\n",
    "#calculates the percentages\n",
    "max_percentage = merged['percentage'].max()\n",
    "max_percentage_country = merged.index[merged['percentage']== max_percentage]\n",
    "\n",
    "highest_earning_country = max_percentage_country[0][0]\n",
    "highest_earning_country_percentage = round(max_percentage, 1)\n",
    "print('Highest earning country:', highest_earning_country)\n",
    "print(\"Highest earning country's percentage:\", highest_earning_country_percentage)\n",
    "    "
   ]
  },
  {
   "cell_type": "markdown",
   "id": "811a0ba2",
   "metadata": {
    "papermill": {
     "duration": 0.018081,
     "end_time": "2022-01-08T15:31:50.655840",
     "exception": false,
     "start_time": "2022-01-08T15:31:50.637759",
     "status": "completed"
    },
    "tags": []
   },
   "source": [
    "<h2> What is the minimum number of hours a person works per week?\n",
    "What percentage of the people who work the minimum number of hours per week have a salary of more than 50K? </h2>"
   ]
  },
  {
   "cell_type": "code",
   "execution_count": 14,
   "id": "82b26efc",
   "metadata": {
    "execution": {
     "iopub.execute_input": "2022-01-08T15:31:50.695509Z",
     "iopub.status.busy": "2022-01-08T15:31:50.694859Z",
     "iopub.status.idle": "2022-01-08T15:31:50.705104Z",
     "shell.execute_reply": "2022-01-08T15:31:50.705647Z",
     "shell.execute_reply.started": "2022-01-08T15:29:21.467692Z"
    },
    "papermill": {
     "duration": 0.031541,
     "end_time": "2022-01-08T15:31:50.705812",
     "exception": false,
     "start_time": "2022-01-08T15:31:50.674271",
     "status": "completed"
    },
    "tags": []
   },
   "outputs": [
    {
     "data": {
      "text/plain": [
       "(1,\n",
       " count    32561.000000\n",
       " mean        40.437456\n",
       " std         12.347429\n",
       " min          1.000000\n",
       " 25%         40.000000\n",
       " 50%         40.000000\n",
       " 75%         45.000000\n",
       " max         99.000000\n",
       " Name: hours-per-week, dtype: float64)"
      ]
     },
     "execution_count": 14,
     "metadata": {},
     "output_type": "execute_result"
    }
   ],
   "source": [
    "# What is the minimum number of hours a person works per week (hours-per-week feature)?\n",
    "min_work_hours = df['hours-per-week'].min()\n",
    "min_work_hours, df['hours-per-week'].describe()"
   ]
  },
  {
   "cell_type": "code",
   "execution_count": 15,
   "id": "5cdaa31d",
   "metadata": {
    "execution": {
     "iopub.execute_input": "2022-01-08T15:31:50.745952Z",
     "iopub.status.busy": "2022-01-08T15:31:50.745268Z",
     "iopub.status.idle": "2022-01-08T15:31:50.751553Z",
     "shell.execute_reply": "2022-01-08T15:31:50.752024Z",
     "shell.execute_reply.started": "2022-01-08T15:29:21.479113Z"
    },
    "papermill": {
     "duration": 0.027791,
     "end_time": "2022-01-08T15:31:50.752206",
     "exception": false,
     "start_time": "2022-01-08T15:31:50.724415",
     "status": "completed"
    },
    "tags": []
   },
   "outputs": [
    {
     "data": {
      "text/plain": [
       "189      1\n",
       "1036     1\n",
       "1262     1\n",
       "5590     1\n",
       "5632     1\n",
       "5766     1\n",
       "5808     1\n",
       "8447     1\n",
       "9147     1\n",
       "11451    1\n",
       "19337    1\n",
       "19750    1\n",
       "20072    1\n",
       "20909    1\n",
       "22960    1\n",
       "23536    1\n",
       "24284    1\n",
       "25078    1\n",
       "29752    1\n",
       "32525    1\n",
       "Name: hours-per-week, dtype: int64"
      ]
     },
     "execution_count": 15,
     "metadata": {},
     "output_type": "execute_result"
    }
   ],
   "source": [
    "# What percentage of the people who work the minimum number of hours per week have a salary of >50K?\n",
    "min_workers = df[df['hours-per-week'] == min_work_hours]\n",
    "num_min_workers = min_workers['hours-per-week']\n",
    "num_min_workers"
   ]
  },
  {
   "cell_type": "code",
   "execution_count": 16,
   "id": "7e55340a",
   "metadata": {
    "execution": {
     "iopub.execute_input": "2022-01-08T15:31:50.793147Z",
     "iopub.status.busy": "2022-01-08T15:31:50.792545Z",
     "iopub.status.idle": "2022-01-08T15:31:50.799341Z",
     "shell.execute_reply": "2022-01-08T15:31:50.799783Z",
     "shell.execute_reply.started": "2022-01-08T15:29:21.492513Z"
    },
    "papermill": {
     "duration": 0.028495,
     "end_time": "2022-01-08T15:31:50.799945",
     "exception": false,
     "start_time": "2022-01-08T15:31:50.771450",
     "status": "completed"
    },
    "tags": []
   },
   "outputs": [
    {
     "data": {
      "text/plain": [
       ">50K    2\n",
       "Name: salary, dtype: int64"
      ]
     },
     "execution_count": 16,
     "metadata": {},
     "output_type": "execute_result"
    }
   ],
   "source": [
    "rich_min_workers = min_workers[min_workers['salary'].astype(str) == '>50K']\n",
    "rich_min_workers['salary'].value_counts()"
   ]
  },
  {
   "cell_type": "code",
   "execution_count": 17,
   "id": "327fc204",
   "metadata": {
    "execution": {
     "iopub.execute_input": "2022-01-08T15:31:50.841496Z",
     "iopub.status.busy": "2022-01-08T15:31:50.840894Z",
     "iopub.status.idle": "2022-01-08T15:31:50.845096Z",
     "shell.execute_reply": "2022-01-08T15:31:50.845516Z",
     "shell.execute_reply.started": "2022-01-08T15:29:21.507664Z"
    },
    "papermill": {
     "duration": 0.026543,
     "end_time": "2022-01-08T15:31:50.845678",
     "exception": false,
     "start_time": "2022-01-08T15:31:50.819135",
     "status": "completed"
    },
    "tags": []
   },
   "outputs": [
    {
     "data": {
      "text/plain": [
       "10.0"
      ]
     },
     "execution_count": 17,
     "metadata": {},
     "output_type": "execute_result"
    }
   ],
   "source": [
    "# What percentage of the people who work the minimum number of hours per week have a salary of >50K?\n",
    "rich_percentage = (len(rich_min_workers)/len(min_workers))*100\n",
    "rich_percentage"
   ]
  },
  {
   "cell_type": "code",
   "execution_count": 18,
   "id": "ed1c9a15",
   "metadata": {
    "execution": {
     "iopub.execute_input": "2022-01-08T15:31:50.887332Z",
     "iopub.status.busy": "2022-01-08T15:31:50.886762Z",
     "iopub.status.idle": "2022-01-08T15:31:50.890523Z",
     "shell.execute_reply": "2022-01-08T15:31:50.890996Z",
     "shell.execute_reply.started": "2022-01-08T15:29:21.518818Z"
    },
    "papermill": {
     "duration": 0.026202,
     "end_time": "2022-01-08T15:31:50.891152",
     "exception": false,
     "start_time": "2022-01-08T15:31:50.864950",
     "status": "completed"
    },
    "tags": []
   },
   "outputs": [
    {
     "data": {
      "text/plain": [
       "1"
      ]
     },
     "execution_count": 18,
     "metadata": {},
     "output_type": "execute_result"
    }
   ],
   "source": [
    "# What is the minimum number of hours a person works per week (hours-per-week feature)?\n",
    "min_work_hours"
   ]
  },
  {
   "cell_type": "code",
   "execution_count": 19,
   "id": "711a4eb4",
   "metadata": {
    "execution": {
     "iopub.execute_input": "2022-01-08T15:31:50.936558Z",
     "iopub.status.busy": "2022-01-08T15:31:50.935915Z",
     "iopub.status.idle": "2022-01-08T15:31:50.938885Z",
     "shell.execute_reply": "2022-01-08T15:31:50.939341Z",
     "shell.execute_reply.started": "2022-01-08T15:29:21.532825Z"
    },
    "papermill": {
     "duration": 0.028708,
     "end_time": "2022-01-08T15:31:50.939503",
     "exception": false,
     "start_time": "2022-01-08T15:31:50.910795",
     "status": "completed"
    },
    "tags": []
   },
   "outputs": [
    {
     "data": {
      "text/plain": [
       "(20, 10.0)"
      ]
     },
     "execution_count": 19,
     "metadata": {},
     "output_type": "execute_result"
    }
   ],
   "source": [
    "# What percentage of the people who work the minimum number of hours per week have a salary of >50K?\n",
    "number_of_min_workers = len(num_min_workers)\n",
    "rich_percentageof_min_workers = rich_percentage\n",
    "number_of_min_workers, rich_percentageof_min_workers"
   ]
  },
  {
   "cell_type": "code",
   "execution_count": 20,
   "id": "a37fb5fb",
   "metadata": {
    "execution": {
     "iopub.execute_input": "2022-01-08T15:31:50.987186Z",
     "iopub.status.busy": "2022-01-08T15:31:50.986588Z",
     "iopub.status.idle": "2022-01-08T15:31:51.005452Z",
     "shell.execute_reply": "2022-01-08T15:31:51.005927Z",
     "shell.execute_reply.started": "2022-01-08T15:31:17.195214Z"
    },
    "papermill": {
     "duration": 0.046448,
     "end_time": "2022-01-08T15:31:51.006102",
     "exception": false,
     "start_time": "2022-01-08T15:31:50.959654",
     "status": "completed"
    },
    "tags": []
   },
   "outputs": [
    {
     "data": {
      "text/plain": [
       "'Prof-specialty'"
      ]
     },
     "execution_count": 20,
     "metadata": {},
     "output_type": "execute_result"
    }
   ],
   "source": [
    "# Identify the most popular occupation for those who earn >50K in India\n",
    "most_popular_occupation = df.groupby([df.occupation, df['native-country'][df['native-country']== 'India'], df.salary[df.salary == '>50K']])['occupation'].size()\n",
    "top_IN_occupation = most_popular_occupation.idxmax()[0]\n",
    "top_IN_occupation "
   ]
  },
  {
   "cell_type": "code",
   "execution_count": null,
   "id": "a8ddd355",
   "metadata": {
    "papermill": {
     "duration": 0.020136,
     "end_time": "2022-01-08T15:31:51.046542",
     "exception": false,
     "start_time": "2022-01-08T15:31:51.026406",
     "status": "completed"
    },
    "tags": []
   },
   "outputs": [],
   "source": []
  }
 ],
 "metadata": {
  "kernelspec": {
   "display_name": "Python 3",
   "language": "python",
   "name": "python3"
  },
  "language_info": {
   "codemirror_mode": {
    "name": "ipython",
    "version": 3
   },
   "file_extension": ".py",
   "mimetype": "text/x-python",
   "name": "python",
   "nbconvert_exporter": "python",
   "pygments_lexer": "ipython3",
   "version": "3.7.12"
  },
  "papermill": {
   "default_parameters": {},
   "duration": 11.699901,
   "end_time": "2022-01-08T15:31:51.676523",
   "environment_variables": {},
   "exception": null,
   "input_path": "__notebook__.ipynb",
   "output_path": "__notebook__.ipynb",
   "parameters": {},
   "start_time": "2022-01-08T15:31:39.976622",
   "version": "2.3.3"
  }
 },
 "nbformat": 4,
 "nbformat_minor": 5
}
